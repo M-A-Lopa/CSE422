{
  "cells": [
    {
      "cell_type": "markdown",
      "metadata": {
        "id": "view-in-github",
        "colab_type": "text"
      },
      "source": [
        "<a href=\"https://colab.research.google.com/github/M-A-Lopa/CSE422/blob/main/CSE422_NeuralNetworkLab.ipynb\" target=\"_parent\"><img src=\"https://colab.research.google.com/assets/colab-badge.svg\" alt=\"Open In Colab\"/></a>"
      ]
    },
    {
      "cell_type": "markdown",
      "metadata": {
        "id": "x-oAJmE59jNM"
      },
      "source": [
        "# **CSE422 Lab: Neural Networks**\n"
      ]
    },
    {
      "cell_type": "markdown",
      "metadata": {
        "id": "CDAK_I09ye7k"
      },
      "source": [
        "## **Neural Networks**\n",
        "In machine learning, a neural network (also artificial neural network abbreviated ANN) is a model inspired by the structure and function of biological neural networks in animal brains.\n",
        "\n"
      ]
    },
    {
      "cell_type": "markdown",
      "metadata": {
        "id": "0U2BMppoZa_X"
      },
      "source": [
        "### **Forward Propagation**"
      ]
    },
    {
      "cell_type": "markdown",
      "metadata": {
        "id": "PnKSGDRqnDND"
      },
      "source": [
        "The forward propagation of a single layer can be mathematically expressed as follows:\n",
        "\n",
        "Let $f$ be the activation function. Then, for the $l^{th}$ layer, the input is $A^{[l-1]}$ and the output $A^{[l]}$ is computed as:\n",
        "\n",
        "$$Z^{[l]} = W^{[l]}A^{[l-1]} + B^{[l]}$$\n",
        "$$A^{[l]} = f(Z^{[l]})$$\n",
        "\n",
        "where $W^{[l]}$ is the weight matrix connecting $(l-1)^{th}$ layer to $l^{th}$ layer, $B^{[l]}$ is the bias matrix of $l^{th}$ layer, and $Z^{[l]}$ is the pre-activation output $l^{th}$ layer."
      ]
    },
    {
      "cell_type": "markdown",
      "metadata": {
        "id": "eKINvkRlZfR2"
      },
      "source": [
        "### **Backpropagation**"
      ]
    },
    {
      "cell_type": "markdown",
      "metadata": {
        "id": "Guka2zJ9pAZg"
      },
      "source": [
        "The backpropagation of a single layer can be mathematically expressed as follows:\n",
        "\n",
        "Let $Y$ be the output, $f$ be the activation function, and $E$ be the cost function. The upstream gradient for the output layer $D_u^{[L]}$, where $L$ is the number of layers in the network, is computed as:\n",
        "\n",
        "$$D_u^{[L]} = \\nabla_Y E$$\n",
        "\n",
        "Let $D^{[l]} = \\nabla_{Z^{[l]}} E$, where, $Z^{[l]}$ be the pre-activation output of $l^{th}$ layer. For $l^{th}$ layer, $D^{[l]}$ is computed as:\n",
        "\n",
        "$$D^{[l]} = D_u^{[l]} \\odot f'(Z^{[l]})$$\n",
        "\n",
        "Then, the partial derivatives of the cost function with respect to weight matrix $W^{[l]}$ and bias matrix $B^{[l]}$ are computed as:\n",
        "\n",
        "$$\\nabla_{W^{[l]}} E = D^{[l]} {A^{[l-1]}}^\\mathsf{T}$$\n",
        "$$\\nabla_{B^{[l]}} E = D^{[l]}$$\n",
        "\n",
        "where $A^{[l-1]}$ is the input from $(l-1)^{th}$ layer. Finally, the weight matrix $W^{[l]}$ and bias matrix $B^{[l]}$ are updated using the following equations:\n",
        "\n",
        "$$W^{[l]} \\rightarrow W^{[l]} - \\eta \\nabla_{W^{[l]}} E$$\n",
        "$$B^{[l]} \\rightarrow B^{[l]} - \\eta \\nabla_{B^{[l]}} E$$\n",
        "\n",
        "where $\\eta$ is the learning rate of the network.\n",
        "\n",
        "In the end, for $(l-1)^{th}$ layer, the upstream gradient $D_u^{[l-1]}$ is computed as:\n",
        "\n",
        "$$D_u^{[l-1]} = {D^{[l]} W_1^{[l]}}^\\mathsf{T}$$"
      ]
    },
    {
      "cell_type": "markdown",
      "metadata": {
        "id": "MylabKY3Mvcs"
      },
      "source": [
        "## **Implementation**"
      ]
    },
    {
      "cell_type": "markdown",
      "metadata": {
        "id": "DZldiu1MM5rj"
      },
      "source": [
        "### **Necassary Libraries**"
      ]
    },
    {
      "cell_type": "code",
      "execution_count": null,
      "metadata": {
        "id": "GWqNBiMN94Gk"
      },
      "outputs": [],
      "source": [
        "import numpy as np\n",
        "\n",
        "from tensorflow.keras.datasets import boston_housing\n",
        "from tensorflow.keras.datasets import mnist\n",
        "from tensorflow.keras import Sequential\n",
        "from tensorflow.keras.layers import Flatten\n",
        "from tensorflow.keras.layers import Dense\n",
        "from tensorflow.keras.optimizers import Adam\n",
        "from tensorflow.keras.losses import SparseCategoricalCrossentropy\n",
        "\n",
        "import pandas as pd\n",
        "from matplotlib import pyplot as plt"
      ]
    },
    {
      "cell_type": "markdown",
      "metadata": {
        "id": "a0RcMfcxzZ42"
      },
      "source": [
        "### **Activation Function**\n",
        "\n",
        "Sigmoid --> Binary lassification(Hidden layer e use hoi na)\n",
        "\n",
        "tanh--> Classification(Hidden layer e use hoi na)\n",
        "\n",
        "Softmax--> Multiclass classification-->output layer\n",
        "\n",
        "ReLU--> Hidden layer"
      ]
    },
    {
      "cell_type": "code",
      "execution_count": null,
      "metadata": {
        "id": "7hXmCq49zxhQ"
      },
      "outputs": [],
      "source": [
        "class ReLU:\n",
        "    # Apply activation function\n",
        "    def forwardPropagation(self, inp: np.array) -> np.array:\n",
        "        self.inputAct = np.maximum(0, inp)\n",
        "        return self.inputAct\n",
        "\n",
        "    # Calculate derivative of the activation function\n",
        "    def backPropagation(self, delta: np.array) -> np.array:\n",
        "        return delta * np.where(self.inputAct > 0, 1, 0)"
      ]
    },
    {
      "cell_type": "markdown",
      "metadata": {
        "id": "ddjLPfeCziIN"
      },
      "source": [
        "### **Loss Function**\n",
        "\n",
        "Binary Cross Entropy --> Binary Classification\n",
        "\n",
        "Categorical Cross Entropy --> Multiclass Classification\n",
        "\n",
        "Mean Square Error --> Regression"
      ]
    },
    {
      "cell_type": "code",
      "execution_count": null,
      "metadata": {
        "id": "XSf3Jz97z0Sx"
      },
      "outputs": [],
      "source": [
        "class MeanSquareError:\n",
        "  def loss(self, Y: np.array, y:np.array) -> np.array:\n",
        "      self.Y = Y\n",
        "      self.y = y\n",
        "      return np.absolute((Y - y) ** 2).sum() / y.shape[0]\n",
        "\n",
        "  # Calculate derivative of the loss function\n",
        "  def deriv(self) -> np.array:\n",
        "      return (self.Y - self.y) / self.y.shape[0]"
      ]
    },
    {
      "cell_type": "markdown",
      "metadata": {
        "id": "4gkzMQAPznEg"
      },
      "source": [
        "### **Optimizer**\n",
        "\n",
        "Adam\n",
        "\n",
        "GradientDescent"
      ]
    },
    {
      "cell_type": "code",
      "execution_count": null,
      "metadata": {
        "id": "-KqBd4nWz83x"
      },
      "outputs": [],
      "source": [
        "class GradientDescent:\n",
        "    def __init__(self, learningRate) -> None:\n",
        "        self.learningRate = learningRate\n",
        "\n",
        "    # Calculate gradients\n",
        "    def gradients(self, gradients) -> np.array:\n",
        "        return self.learningRate * gradients"
      ]
    },
    {
      "cell_type": "markdown",
      "metadata": {
        "id": "v3ux2YrEM_Nr"
      },
      "source": [
        "### **Necassary Functions**"
      ]
    },
    {
      "cell_type": "code",
      "execution_count": null,
      "metadata": {
        "id": "SLoqeP8p-KbM"
      },
      "outputs": [],
      "source": [
        "# To get activation function\n",
        "def getActivationFunction(activation: str) -> object:\n",
        "    if activation == \"RELU\":\n",
        "        return ReLU\n",
        "    else:\n",
        "        raise Exception(\"Cannot find the activation function.\")\n",
        "\n",
        "# To get loss function\n",
        "def getLossFunction(loss: str) -> object:\n",
        "    if loss == \"MSE\":\n",
        "        return MeanSquareError\n",
        "    else:\n",
        "        raise Exception(\"Cannot find the loss function.\")\n",
        "\n",
        "# To get optimizer\n",
        "def getOptimizer(optimizer: str) -> object:\n",
        "    if optimizer == \"GD\":\n",
        "        return GradientDescent\n",
        "    else:\n",
        "        raise Exception(\"Cannot find the optimizer.\")"
      ]
    },
    {
      "cell_type": "markdown",
      "metadata": {
        "id": "oZJS5Tmkdhqd"
      },
      "source": [
        "### **Single Layer of Neurons**"
      ]
    },
    {
      "cell_type": "code",
      "execution_count": null,
      "metadata": {
        "id": "9rq9aKiE9bG9"
      },
      "outputs": [],
      "source": [
        "class NeuronLayer:\n",
        "    def __init__(self, inputNeurons, outputNeurons, activation, biasFlag = True, randomState = 42) -> None:\n",
        "        np.random.seed(randomState)\n",
        "        # set variables\n",
        "        self.inputNeurons = inputNeurons\n",
        "        self.outputNeurons = outputNeurons\n",
        "        self.biasFlag = biasFlag\n",
        "\n",
        "        # get activation\n",
        "        self.activation = getActivationFunction(activation)()\n",
        "\n",
        "        # initiate parameters\n",
        "        self.weights = self.__initParameters((self.inputNeurons, self.outputNeurons))\n",
        "        self.bias = self.__initParameters((1, self.outputNeurons))\n",
        "\n",
        "    # Parameter initializer\n",
        "    def __initParameters(self, dimension: tuple) -> np.array:\n",
        "        return np.random.uniform(-np.sqrt(2/(dimension[0] + dimension[1])), np.sqrt(2/(dimension[0] + dimension[1])),size = (dimension[0], dimension[1]))\n",
        "\n",
        "    def build(self, optimizer, learningRate) -> None:\n",
        "        self.learningRate = learningRate\n",
        "        self.optimizer = getOptimizer(optimizer)(learningRate)\n",
        "\n",
        "    # Apply forward propagation\n",
        "    def forwardPropagation(self, X: np.array) -> np.array:\n",
        "        self.X = X\n",
        "\n",
        "        # Calculate weighted sum\n",
        "        self.output = np.dot(self.X, self.weights) + (self.biasFlag * self.bias)\n",
        "        # Apply activation function\n",
        "        self.output = self.activation.forwardPropagation(self.output)\n",
        "\n",
        "        return self.output\n",
        "\n",
        "    # Apply backpropagation\n",
        "    def backPropagation(self, upstreamGradient: np.array) -> np.array:\n",
        "        # Calculate activation gradients\n",
        "        delta = self.activation.backPropagation(upstreamGradient)\n",
        "\n",
        "        # Calculate parameter gradients\n",
        "        weightGrad = np.dot(self.X.T, delta) / self.X.shape[0]\n",
        "        biasGrad = np.dot(np.ones((1, self.X.shape[0])), delta) /  self.X.shape[0]\n",
        "\n",
        "        # Update parameters\n",
        "        self.weights -= self.optimizer.gradients(weightGrad)\n",
        "        self.bias -= self.optimizer.gradients(biasGrad)\n",
        "\n",
        "        # Calculate downstream gradients\n",
        "        downstreamGradient = np.dot(delta, self.weights.T) / self.X.shape[0]\n",
        "\n",
        "        return downstreamGradient"
      ]
    },
    {
      "cell_type": "markdown",
      "metadata": {
        "id": "UrWntw6Sdo6s"
      },
      "source": [
        "### **Model**"
      ]
    },
    {
      "cell_type": "code",
      "execution_count": null,
      "metadata": {
        "id": "GeGr6YlSSejW"
      },
      "outputs": [],
      "source": [
        "class Model:\n",
        "    # Create mini-batches\n",
        "    def __createBatch(self, X: np.array, Y: np.array, batchSize: int) -> tuple:\n",
        "        miniX, miniY = np.array([X[:batchSize]]), np.array([Y[:batchSize]])\n",
        "\n",
        "        for idx in range(1, X.shape[0] // batchSize):\n",
        "            miniX = np.append(miniX, np.array([X[idx * batchSize : (idx + 1) * batchSize]]), axis = 0)\n",
        "            miniY = np.append(miniY, np.array([Y[idx * batchSize : (idx + 1) * batchSize]]), axis = 0)\n",
        "\n",
        "        return miniX, miniY\n",
        "\n",
        "    # Apply forward propagation over the model\n",
        "    def __forwardPropagation(self, X: np.array) -> np.array:\n",
        "        output = X\n",
        "        for layer in self.layers:\n",
        "            output = layer.forwardPropagation(output)\n",
        "        return output\n",
        "\n",
        "    # Apply backpropagation over the model\n",
        "    def __backPropagation(self, Y: np.array) -> None:\n",
        "        gradient = Y\n",
        "        for layer in self.layers[::-1]:\n",
        "            gradient = layer.backPropagation(gradient)\n",
        "\n",
        "    def layers(self, layers: list) -> None:\n",
        "        self.layers = layers\n",
        "\n",
        "    # Compile the model\n",
        "    def compile(self, loss, optimizer, learningRate) -> None:\n",
        "        self.loss = getLossFunction(loss)()\n",
        "        for layer in self.layers[::-1]:\n",
        "            layer.build(optimizer, learningRate)\n",
        "\n",
        "    # Predict the output\n",
        "    def predict(self, X: np.array) -> np.array:\n",
        "        return self.__forwardPropagation(X)\n",
        "\n",
        "    # Evaluate the model\n",
        "    def evaluate(self, X: np.array, Y: np.array) -> np.array:\n",
        "        output = self.predict(X)\n",
        "        return self.loss.loss(output, Y)\n",
        "\n",
        "    # Train the model\n",
        "    def fit(self, X: np.array, Y: np.array, epochs: int, batchSize = None) -> np.array:\n",
        "        # Create mini-batch\n",
        "        batchSize = (batchSize if batchSize else X.shape[0])\n",
        "        self.X, self.Y = self.__createBatch(X, Y, batchSize)\n",
        "\n",
        "        self.error = np.array([])\n",
        "        # Run epoch\n",
        "        for epoch in range(epochs):\n",
        "            epochError = np.array([])\n",
        "\n",
        "            # Iterate over mini-batches\n",
        "            for idx in range(self.X.shape[0]):\n",
        "                epochError = np.append(epochError, self.loss.loss(self.__forwardPropagation(self.X[idx]), self.Y[idx]))\n",
        "                self.__backPropagation(self.loss.deriv())\n",
        "\n",
        "            # Print epoch information\n",
        "            epochError /= epochError.shape[0]\n",
        "            self.error = np.append(self.error, epochError.sum() / epochError.shape[0])\n",
        "            print(\"Epoch:\", epoch + 1, \"Error:\", round(epochError[0], 2))\n",
        "\n",
        "        return self.error"
      ]
    },
    {
      "cell_type": "markdown",
      "metadata": {
        "id": "OnCAOL6ngVXs"
      },
      "source": [
        "### **Load Dataset**"
      ]
    },
    {
      "cell_type": "code",
      "execution_count": null,
      "metadata": {
        "colab": {
          "base_uri": "https://localhost:8080/",
          "height": 424
        },
        "id": "n7GSn549sUZD",
        "outputId": "b2134e3b-39d8-49e0-8e1c-045d76d93f2d"
      },
      "outputs": [
        {
          "output_type": "execute_result",
          "data": {
            "text/plain": [
              "            0     1      2    3      4      5     6       7     8      9  \\\n",
              "0     0.09178   0.0   4.05  0.0  0.510  6.416  84.1  2.6463   5.0  296.0   \n",
              "1     0.05644  40.0   6.41  1.0  0.447  6.758  32.9  4.0776   4.0  254.0   \n",
              "2     0.10574   0.0  27.74  0.0  0.609  5.983  98.8  1.8681   4.0  711.0   \n",
              "3     0.09164   0.0  10.81  0.0  0.413  6.065   7.8  5.2873   4.0  305.0   \n",
              "4     5.09017   0.0  18.10  0.0  0.713  6.297  91.8  2.3682  24.0  666.0   \n",
              "..        ...   ...    ...  ...    ...    ...   ...     ...   ...    ...   \n",
              "501   0.17120   0.0   8.56  0.0  0.520  5.836  91.9  2.2110   5.0  384.0   \n",
              "502   0.29916  20.0   6.96  0.0  0.464  5.856  42.1  4.4290   3.0  223.0   \n",
              "503   0.01501  80.0   2.01  0.0  0.435  6.635  29.7  8.3440   4.0  280.0   \n",
              "504  11.16040   0.0  18.10  0.0  0.740  6.629  94.6  2.1247  24.0  666.0   \n",
              "505   0.22876   0.0   8.56  0.0  0.520  6.405  85.4  2.7147   5.0  384.0   \n",
              "\n",
              "       10      11     12  Target  \n",
              "0    16.6  395.50   9.04    23.6  \n",
              "1    17.6  396.90   3.53    32.4  \n",
              "2    20.1  390.11  18.07    13.6  \n",
              "3    19.2  390.91   5.52    22.8  \n",
              "4    20.2  385.09  17.27    16.1  \n",
              "..    ...     ...    ...     ...  \n",
              "501  20.9  395.67  18.66    19.5  \n",
              "502  18.6  388.65  13.00    21.1  \n",
              "503  17.0  390.94   5.99    24.5  \n",
              "504  20.2  109.85  23.27    13.4  \n",
              "505  20.9   70.80  10.63    18.6  \n",
              "\n",
              "[506 rows x 14 columns]"
            ],
            "text/html": [
              "\n",
              "  <div id=\"df-3d22eeeb-05c9-450b-8018-03328000e924\" class=\"colab-df-container\">\n",
              "    <div>\n",
              "<style scoped>\n",
              "    .dataframe tbody tr th:only-of-type {\n",
              "        vertical-align: middle;\n",
              "    }\n",
              "\n",
              "    .dataframe tbody tr th {\n",
              "        vertical-align: top;\n",
              "    }\n",
              "\n",
              "    .dataframe thead th {\n",
              "        text-align: right;\n",
              "    }\n",
              "</style>\n",
              "<table border=\"1\" class=\"dataframe\">\n",
              "  <thead>\n",
              "    <tr style=\"text-align: right;\">\n",
              "      <th></th>\n",
              "      <th>0</th>\n",
              "      <th>1</th>\n",
              "      <th>2</th>\n",
              "      <th>3</th>\n",
              "      <th>4</th>\n",
              "      <th>5</th>\n",
              "      <th>6</th>\n",
              "      <th>7</th>\n",
              "      <th>8</th>\n",
              "      <th>9</th>\n",
              "      <th>10</th>\n",
              "      <th>11</th>\n",
              "      <th>12</th>\n",
              "      <th>Target</th>\n",
              "    </tr>\n",
              "  </thead>\n",
              "  <tbody>\n",
              "    <tr>\n",
              "      <th>0</th>\n",
              "      <td>0.09178</td>\n",
              "      <td>0.0</td>\n",
              "      <td>4.05</td>\n",
              "      <td>0.0</td>\n",
              "      <td>0.510</td>\n",
              "      <td>6.416</td>\n",
              "      <td>84.1</td>\n",
              "      <td>2.6463</td>\n",
              "      <td>5.0</td>\n",
              "      <td>296.0</td>\n",
              "      <td>16.6</td>\n",
              "      <td>395.50</td>\n",
              "      <td>9.04</td>\n",
              "      <td>23.6</td>\n",
              "    </tr>\n",
              "    <tr>\n",
              "      <th>1</th>\n",
              "      <td>0.05644</td>\n",
              "      <td>40.0</td>\n",
              "      <td>6.41</td>\n",
              "      <td>1.0</td>\n",
              "      <td>0.447</td>\n",
              "      <td>6.758</td>\n",
              "      <td>32.9</td>\n",
              "      <td>4.0776</td>\n",
              "      <td>4.0</td>\n",
              "      <td>254.0</td>\n",
              "      <td>17.6</td>\n",
              "      <td>396.90</td>\n",
              "      <td>3.53</td>\n",
              "      <td>32.4</td>\n",
              "    </tr>\n",
              "    <tr>\n",
              "      <th>2</th>\n",
              "      <td>0.10574</td>\n",
              "      <td>0.0</td>\n",
              "      <td>27.74</td>\n",
              "      <td>0.0</td>\n",
              "      <td>0.609</td>\n",
              "      <td>5.983</td>\n",
              "      <td>98.8</td>\n",
              "      <td>1.8681</td>\n",
              "      <td>4.0</td>\n",
              "      <td>711.0</td>\n",
              "      <td>20.1</td>\n",
              "      <td>390.11</td>\n",
              "      <td>18.07</td>\n",
              "      <td>13.6</td>\n",
              "    </tr>\n",
              "    <tr>\n",
              "      <th>3</th>\n",
              "      <td>0.09164</td>\n",
              "      <td>0.0</td>\n",
              "      <td>10.81</td>\n",
              "      <td>0.0</td>\n",
              "      <td>0.413</td>\n",
              "      <td>6.065</td>\n",
              "      <td>7.8</td>\n",
              "      <td>5.2873</td>\n",
              "      <td>4.0</td>\n",
              "      <td>305.0</td>\n",
              "      <td>19.2</td>\n",
              "      <td>390.91</td>\n",
              "      <td>5.52</td>\n",
              "      <td>22.8</td>\n",
              "    </tr>\n",
              "    <tr>\n",
              "      <th>4</th>\n",
              "      <td>5.09017</td>\n",
              "      <td>0.0</td>\n",
              "      <td>18.10</td>\n",
              "      <td>0.0</td>\n",
              "      <td>0.713</td>\n",
              "      <td>6.297</td>\n",
              "      <td>91.8</td>\n",
              "      <td>2.3682</td>\n",
              "      <td>24.0</td>\n",
              "      <td>666.0</td>\n",
              "      <td>20.2</td>\n",
              "      <td>385.09</td>\n",
              "      <td>17.27</td>\n",
              "      <td>16.1</td>\n",
              "    </tr>\n",
              "    <tr>\n",
              "      <th>...</th>\n",
              "      <td>...</td>\n",
              "      <td>...</td>\n",
              "      <td>...</td>\n",
              "      <td>...</td>\n",
              "      <td>...</td>\n",
              "      <td>...</td>\n",
              "      <td>...</td>\n",
              "      <td>...</td>\n",
              "      <td>...</td>\n",
              "      <td>...</td>\n",
              "      <td>...</td>\n",
              "      <td>...</td>\n",
              "      <td>...</td>\n",
              "      <td>...</td>\n",
              "    </tr>\n",
              "    <tr>\n",
              "      <th>501</th>\n",
              "      <td>0.17120</td>\n",
              "      <td>0.0</td>\n",
              "      <td>8.56</td>\n",
              "      <td>0.0</td>\n",
              "      <td>0.520</td>\n",
              "      <td>5.836</td>\n",
              "      <td>91.9</td>\n",
              "      <td>2.2110</td>\n",
              "      <td>5.0</td>\n",
              "      <td>384.0</td>\n",
              "      <td>20.9</td>\n",
              "      <td>395.67</td>\n",
              "      <td>18.66</td>\n",
              "      <td>19.5</td>\n",
              "    </tr>\n",
              "    <tr>\n",
              "      <th>502</th>\n",
              "      <td>0.29916</td>\n",
              "      <td>20.0</td>\n",
              "      <td>6.96</td>\n",
              "      <td>0.0</td>\n",
              "      <td>0.464</td>\n",
              "      <td>5.856</td>\n",
              "      <td>42.1</td>\n",
              "      <td>4.4290</td>\n",
              "      <td>3.0</td>\n",
              "      <td>223.0</td>\n",
              "      <td>18.6</td>\n",
              "      <td>388.65</td>\n",
              "      <td>13.00</td>\n",
              "      <td>21.1</td>\n",
              "    </tr>\n",
              "    <tr>\n",
              "      <th>503</th>\n",
              "      <td>0.01501</td>\n",
              "      <td>80.0</td>\n",
              "      <td>2.01</td>\n",
              "      <td>0.0</td>\n",
              "      <td>0.435</td>\n",
              "      <td>6.635</td>\n",
              "      <td>29.7</td>\n",
              "      <td>8.3440</td>\n",
              "      <td>4.0</td>\n",
              "      <td>280.0</td>\n",
              "      <td>17.0</td>\n",
              "      <td>390.94</td>\n",
              "      <td>5.99</td>\n",
              "      <td>24.5</td>\n",
              "    </tr>\n",
              "    <tr>\n",
              "      <th>504</th>\n",
              "      <td>11.16040</td>\n",
              "      <td>0.0</td>\n",
              "      <td>18.10</td>\n",
              "      <td>0.0</td>\n",
              "      <td>0.740</td>\n",
              "      <td>6.629</td>\n",
              "      <td>94.6</td>\n",
              "      <td>2.1247</td>\n",
              "      <td>24.0</td>\n",
              "      <td>666.0</td>\n",
              "      <td>20.2</td>\n",
              "      <td>109.85</td>\n",
              "      <td>23.27</td>\n",
              "      <td>13.4</td>\n",
              "    </tr>\n",
              "    <tr>\n",
              "      <th>505</th>\n",
              "      <td>0.22876</td>\n",
              "      <td>0.0</td>\n",
              "      <td>8.56</td>\n",
              "      <td>0.0</td>\n",
              "      <td>0.520</td>\n",
              "      <td>6.405</td>\n",
              "      <td>85.4</td>\n",
              "      <td>2.7147</td>\n",
              "      <td>5.0</td>\n",
              "      <td>384.0</td>\n",
              "      <td>20.9</td>\n",
              "      <td>70.80</td>\n",
              "      <td>10.63</td>\n",
              "      <td>18.6</td>\n",
              "    </tr>\n",
              "  </tbody>\n",
              "</table>\n",
              "<p>506 rows × 14 columns</p>\n",
              "</div>\n",
              "    <div class=\"colab-df-buttons\">\n",
              "\n",
              "  <div class=\"colab-df-container\">\n",
              "    <button class=\"colab-df-convert\" onclick=\"convertToInteractive('df-3d22eeeb-05c9-450b-8018-03328000e924')\"\n",
              "            title=\"Convert this dataframe to an interactive table.\"\n",
              "            style=\"display:none;\">\n",
              "\n",
              "  <svg xmlns=\"http://www.w3.org/2000/svg\" height=\"24px\" viewBox=\"0 -960 960 960\">\n",
              "    <path d=\"M120-120v-720h720v720H120Zm60-500h600v-160H180v160Zm220 220h160v-160H400v160Zm0 220h160v-160H400v160ZM180-400h160v-160H180v160Zm440 0h160v-160H620v160ZM180-180h160v-160H180v160Zm440 0h160v-160H620v160Z\"/>\n",
              "  </svg>\n",
              "    </button>\n",
              "\n",
              "  <style>\n",
              "    .colab-df-container {\n",
              "      display:flex;\n",
              "      gap: 12px;\n",
              "    }\n",
              "\n",
              "    .colab-df-convert {\n",
              "      background-color: #E8F0FE;\n",
              "      border: none;\n",
              "      border-radius: 50%;\n",
              "      cursor: pointer;\n",
              "      display: none;\n",
              "      fill: #1967D2;\n",
              "      height: 32px;\n",
              "      padding: 0 0 0 0;\n",
              "      width: 32px;\n",
              "    }\n",
              "\n",
              "    .colab-df-convert:hover {\n",
              "      background-color: #E2EBFA;\n",
              "      box-shadow: 0px 1px 2px rgba(60, 64, 67, 0.3), 0px 1px 3px 1px rgba(60, 64, 67, 0.15);\n",
              "      fill: #174EA6;\n",
              "    }\n",
              "\n",
              "    .colab-df-buttons div {\n",
              "      margin-bottom: 4px;\n",
              "    }\n",
              "\n",
              "    [theme=dark] .colab-df-convert {\n",
              "      background-color: #3B4455;\n",
              "      fill: #D2E3FC;\n",
              "    }\n",
              "\n",
              "    [theme=dark] .colab-df-convert:hover {\n",
              "      background-color: #434B5C;\n",
              "      box-shadow: 0px 1px 3px 1px rgba(0, 0, 0, 0.15);\n",
              "      filter: drop-shadow(0px 1px 2px rgba(0, 0, 0, 0.3));\n",
              "      fill: #FFFFFF;\n",
              "    }\n",
              "  </style>\n",
              "\n",
              "    <script>\n",
              "      const buttonEl =\n",
              "        document.querySelector('#df-3d22eeeb-05c9-450b-8018-03328000e924 button.colab-df-convert');\n",
              "      buttonEl.style.display =\n",
              "        google.colab.kernel.accessAllowed ? 'block' : 'none';\n",
              "\n",
              "      async function convertToInteractive(key) {\n",
              "        const element = document.querySelector('#df-3d22eeeb-05c9-450b-8018-03328000e924');\n",
              "        const dataTable =\n",
              "          await google.colab.kernel.invokeFunction('convertToInteractive',\n",
              "                                                    [key], {});\n",
              "        if (!dataTable) return;\n",
              "\n",
              "        const docLinkHtml = 'Like what you see? Visit the ' +\n",
              "          '<a target=\"_blank\" href=https://colab.research.google.com/notebooks/data_table.ipynb>data table notebook</a>'\n",
              "          + ' to learn more about interactive tables.';\n",
              "        element.innerHTML = '';\n",
              "        dataTable['output_type'] = 'display_data';\n",
              "        await google.colab.output.renderOutput(dataTable, element);\n",
              "        const docLink = document.createElement('div');\n",
              "        docLink.innerHTML = docLinkHtml;\n",
              "        element.appendChild(docLink);\n",
              "      }\n",
              "    </script>\n",
              "  </div>\n",
              "\n",
              "\n",
              "<div id=\"df-5e20e52f-fba7-4f1f-be85-bdb0983ff093\">\n",
              "  <button class=\"colab-df-quickchart\" onclick=\"quickchart('df-5e20e52f-fba7-4f1f-be85-bdb0983ff093')\"\n",
              "            title=\"Suggest charts\"\n",
              "            style=\"display:none;\">\n",
              "\n",
              "<svg xmlns=\"http://www.w3.org/2000/svg\" height=\"24px\"viewBox=\"0 0 24 24\"\n",
              "     width=\"24px\">\n",
              "    <g>\n",
              "        <path d=\"M19 3H5c-1.1 0-2 .9-2 2v14c0 1.1.9 2 2 2h14c1.1 0 2-.9 2-2V5c0-1.1-.9-2-2-2zM9 17H7v-7h2v7zm4 0h-2V7h2v10zm4 0h-2v-4h2v4z\"/>\n",
              "    </g>\n",
              "</svg>\n",
              "  </button>\n",
              "\n",
              "<style>\n",
              "  .colab-df-quickchart {\n",
              "      --bg-color: #E8F0FE;\n",
              "      --fill-color: #1967D2;\n",
              "      --hover-bg-color: #E2EBFA;\n",
              "      --hover-fill-color: #174EA6;\n",
              "      --disabled-fill-color: #AAA;\n",
              "      --disabled-bg-color: #DDD;\n",
              "  }\n",
              "\n",
              "  [theme=dark] .colab-df-quickchart {\n",
              "      --bg-color: #3B4455;\n",
              "      --fill-color: #D2E3FC;\n",
              "      --hover-bg-color: #434B5C;\n",
              "      --hover-fill-color: #FFFFFF;\n",
              "      --disabled-bg-color: #3B4455;\n",
              "      --disabled-fill-color: #666;\n",
              "  }\n",
              "\n",
              "  .colab-df-quickchart {\n",
              "    background-color: var(--bg-color);\n",
              "    border: none;\n",
              "    border-radius: 50%;\n",
              "    cursor: pointer;\n",
              "    display: none;\n",
              "    fill: var(--fill-color);\n",
              "    height: 32px;\n",
              "    padding: 0;\n",
              "    width: 32px;\n",
              "  }\n",
              "\n",
              "  .colab-df-quickchart:hover {\n",
              "    background-color: var(--hover-bg-color);\n",
              "    box-shadow: 0 1px 2px rgba(60, 64, 67, 0.3), 0 1px 3px 1px rgba(60, 64, 67, 0.15);\n",
              "    fill: var(--button-hover-fill-color);\n",
              "  }\n",
              "\n",
              "  .colab-df-quickchart-complete:disabled,\n",
              "  .colab-df-quickchart-complete:disabled:hover {\n",
              "    background-color: var(--disabled-bg-color);\n",
              "    fill: var(--disabled-fill-color);\n",
              "    box-shadow: none;\n",
              "  }\n",
              "\n",
              "  .colab-df-spinner {\n",
              "    border: 2px solid var(--fill-color);\n",
              "    border-color: transparent;\n",
              "    border-bottom-color: var(--fill-color);\n",
              "    animation:\n",
              "      spin 1s steps(1) infinite;\n",
              "  }\n",
              "\n",
              "  @keyframes spin {\n",
              "    0% {\n",
              "      border-color: transparent;\n",
              "      border-bottom-color: var(--fill-color);\n",
              "      border-left-color: var(--fill-color);\n",
              "    }\n",
              "    20% {\n",
              "      border-color: transparent;\n",
              "      border-left-color: var(--fill-color);\n",
              "      border-top-color: var(--fill-color);\n",
              "    }\n",
              "    30% {\n",
              "      border-color: transparent;\n",
              "      border-left-color: var(--fill-color);\n",
              "      border-top-color: var(--fill-color);\n",
              "      border-right-color: var(--fill-color);\n",
              "    }\n",
              "    40% {\n",
              "      border-color: transparent;\n",
              "      border-right-color: var(--fill-color);\n",
              "      border-top-color: var(--fill-color);\n",
              "    }\n",
              "    60% {\n",
              "      border-color: transparent;\n",
              "      border-right-color: var(--fill-color);\n",
              "    }\n",
              "    80% {\n",
              "      border-color: transparent;\n",
              "      border-right-color: var(--fill-color);\n",
              "      border-bottom-color: var(--fill-color);\n",
              "    }\n",
              "    90% {\n",
              "      border-color: transparent;\n",
              "      border-bottom-color: var(--fill-color);\n",
              "    }\n",
              "  }\n",
              "</style>\n",
              "\n",
              "  <script>\n",
              "    async function quickchart(key) {\n",
              "      const quickchartButtonEl =\n",
              "        document.querySelector('#' + key + ' button');\n",
              "      quickchartButtonEl.disabled = true;  // To prevent multiple clicks.\n",
              "      quickchartButtonEl.classList.add('colab-df-spinner');\n",
              "      try {\n",
              "        const charts = await google.colab.kernel.invokeFunction(\n",
              "            'suggestCharts', [key], {});\n",
              "      } catch (error) {\n",
              "        console.error('Error during call to suggestCharts:', error);\n",
              "      }\n",
              "      quickchartButtonEl.classList.remove('colab-df-spinner');\n",
              "      quickchartButtonEl.classList.add('colab-df-quickchart-complete');\n",
              "    }\n",
              "    (() => {\n",
              "      let quickchartButtonEl =\n",
              "        document.querySelector('#df-5e20e52f-fba7-4f1f-be85-bdb0983ff093 button');\n",
              "      quickchartButtonEl.style.display =\n",
              "        google.colab.kernel.accessAllowed ? 'block' : 'none';\n",
              "    })();\n",
              "  </script>\n",
              "</div>\n",
              "\n",
              "  <div id=\"id_d13a15fb-3c7a-4e20-a50e-02ec3f88e15c\">\n",
              "    <style>\n",
              "      .colab-df-generate {\n",
              "        background-color: #E8F0FE;\n",
              "        border: none;\n",
              "        border-radius: 50%;\n",
              "        cursor: pointer;\n",
              "        display: none;\n",
              "        fill: #1967D2;\n",
              "        height: 32px;\n",
              "        padding: 0 0 0 0;\n",
              "        width: 32px;\n",
              "      }\n",
              "\n",
              "      .colab-df-generate:hover {\n",
              "        background-color: #E2EBFA;\n",
              "        box-shadow: 0px 1px 2px rgba(60, 64, 67, 0.3), 0px 1px 3px 1px rgba(60, 64, 67, 0.15);\n",
              "        fill: #174EA6;\n",
              "      }\n",
              "\n",
              "      [theme=dark] .colab-df-generate {\n",
              "        background-color: #3B4455;\n",
              "        fill: #D2E3FC;\n",
              "      }\n",
              "\n",
              "      [theme=dark] .colab-df-generate:hover {\n",
              "        background-color: #434B5C;\n",
              "        box-shadow: 0px 1px 3px 1px rgba(0, 0, 0, 0.15);\n",
              "        filter: drop-shadow(0px 1px 2px rgba(0, 0, 0, 0.3));\n",
              "        fill: #FFFFFF;\n",
              "      }\n",
              "    </style>\n",
              "    <button class=\"colab-df-generate\" onclick=\"generateWithVariable('dataset')\"\n",
              "            title=\"Generate code using this dataframe.\"\n",
              "            style=\"display:none;\">\n",
              "\n",
              "  <svg xmlns=\"http://www.w3.org/2000/svg\" height=\"24px\"viewBox=\"0 0 24 24\"\n",
              "       width=\"24px\">\n",
              "    <path d=\"M7,19H8.4L18.45,9,17,7.55,7,17.6ZM5,21V16.75L18.45,3.32a2,2,0,0,1,2.83,0l1.4,1.43a1.91,1.91,0,0,1,.58,1.4,1.91,1.91,0,0,1-.58,1.4L9.25,21ZM18.45,9,17,7.55Zm-12,3A5.31,5.31,0,0,0,4.9,8.1,5.31,5.31,0,0,0,1,6.5,5.31,5.31,0,0,0,4.9,4.9,5.31,5.31,0,0,0,6.5,1,5.31,5.31,0,0,0,8.1,4.9,5.31,5.31,0,0,0,12,6.5,5.46,5.46,0,0,0,6.5,12Z\"/>\n",
              "  </svg>\n",
              "    </button>\n",
              "    <script>\n",
              "      (() => {\n",
              "      const buttonEl =\n",
              "        document.querySelector('#id_d13a15fb-3c7a-4e20-a50e-02ec3f88e15c button.colab-df-generate');\n",
              "      buttonEl.style.display =\n",
              "        google.colab.kernel.accessAllowed ? 'block' : 'none';\n",
              "\n",
              "      buttonEl.onclick = () => {\n",
              "        google.colab.notebook.generateWithVariable('dataset');\n",
              "      }\n",
              "      })();\n",
              "    </script>\n",
              "  </div>\n",
              "\n",
              "    </div>\n",
              "  </div>\n"
            ],
            "application/vnd.google.colaboratory.intrinsic+json": {
              "type": "dataframe",
              "variable_name": "dataset",
              "summary": "{\n  \"name\": \"dataset\",\n  \"rows\": 506,\n  \"fields\": [\n    {\n      \"column\": 0,\n      \"properties\": {\n        \"dtype\": \"number\",\n        \"std\": 8.601545105332491,\n        \"min\": 0.00632,\n        \"max\": 88.9762,\n        \"num_unique_values\": 504,\n        \"samples\": [\n          1.22358,\n          0.33983,\n          8.26725\n        ],\n        \"semantic_type\": \"\",\n        \"description\": \"\"\n      }\n    },\n    {\n      \"column\": 1,\n      \"properties\": {\n        \"dtype\": \"number\",\n        \"std\": 23.322452994515064,\n        \"min\": 0.0,\n        \"max\": 100.0,\n        \"num_unique_values\": 26,\n        \"samples\": [\n          22.0,\n          30.0,\n          0.0\n        ],\n        \"semantic_type\": \"\",\n        \"description\": \"\"\n      }\n    },\n    {\n      \"column\": 2,\n      \"properties\": {\n        \"dtype\": \"number\",\n        \"std\": 6.860352940897583,\n        \"min\": 0.46,\n        \"max\": 27.74,\n        \"num_unique_values\": 76,\n        \"samples\": [\n          18.1,\n          1.69,\n          7.87\n        ],\n        \"semantic_type\": \"\",\n        \"description\": \"\"\n      }\n    },\n    {\n      \"column\": 3,\n      \"properties\": {\n        \"dtype\": \"number\",\n        \"std\": 0.25399404134041154,\n        \"min\": 0.0,\n        \"max\": 1.0,\n        \"num_unique_values\": 2,\n        \"samples\": [\n          1.0,\n          0.0\n        ],\n        \"semantic_type\": \"\",\n        \"description\": \"\"\n      }\n    },\n    {\n      \"column\": 4,\n      \"properties\": {\n        \"dtype\": \"number\",\n        \"std\": 0.11587767566755611,\n        \"min\": 0.385,\n        \"max\": 0.871,\n        \"num_unique_values\": 81,\n        \"samples\": [\n          0.4161,\n          0.51\n        ],\n        \"semantic_type\": \"\",\n        \"description\": \"\"\n      }\n    },\n    {\n      \"column\": 5,\n      \"properties\": {\n        \"dtype\": \"number\",\n        \"std\": 0.7026171434153236,\n        \"min\": 3.561,\n        \"max\": 8.78,\n        \"num_unique_values\": 446,\n        \"samples\": [\n          6.316,\n          5.272\n        ],\n        \"semantic_type\": \"\",\n        \"description\": \"\"\n      }\n    },\n    {\n      \"column\": 6,\n      \"properties\": {\n        \"dtype\": \"number\",\n        \"std\": 28.148861406903617,\n        \"min\": 2.9,\n        \"max\": 100.0,\n        \"num_unique_values\": 356,\n        \"samples\": [\n          58.4,\n          66.1\n        ],\n        \"semantic_type\": \"\",\n        \"description\": \"\"\n      }\n    },\n    {\n      \"column\": 7,\n      \"properties\": {\n        \"dtype\": \"number\",\n        \"std\": 2.1057101266276117,\n        \"min\": 1.1296,\n        \"max\": 12.1265,\n        \"num_unique_values\": 412,\n        \"samples\": [\n          3.6023,\n          5.1167\n        ],\n        \"semantic_type\": \"\",\n        \"description\": \"\"\n      }\n    },\n    {\n      \"column\": 8,\n      \"properties\": {\n        \"dtype\": \"number\",\n        \"std\": 8.70725938423938,\n        \"min\": 1.0,\n        \"max\": 24.0,\n        \"num_unique_values\": 9,\n        \"samples\": [\n          7.0,\n          4.0\n        ],\n        \"semantic_type\": \"\",\n        \"description\": \"\"\n      }\n    },\n    {\n      \"column\": 9,\n      \"properties\": {\n        \"dtype\": \"number\",\n        \"std\": 168.5371160549591,\n        \"min\": 187.0,\n        \"max\": 711.0,\n        \"num_unique_values\": 66,\n        \"samples\": [\n          289.0,\n          244.0\n        ],\n        \"semantic_type\": \"\",\n        \"description\": \"\"\n      }\n    },\n    {\n      \"column\": 10,\n      \"properties\": {\n        \"dtype\": \"number\",\n        \"std\": 2.164945523714444,\n        \"min\": 12.6,\n        \"max\": 22.0,\n        \"num_unique_values\": 46,\n        \"samples\": [\n          15.5,\n          17.4\n        ],\n        \"semantic_type\": \"\",\n        \"description\": \"\"\n      }\n    },\n    {\n      \"column\": 11,\n      \"properties\": {\n        \"dtype\": \"number\",\n        \"std\": 91.2948643841578,\n        \"min\": 0.32,\n        \"max\": 396.9,\n        \"num_unique_values\": 357,\n        \"samples\": [\n          354.31,\n          380.34\n        ],\n        \"semantic_type\": \"\",\n        \"description\": \"\"\n      }\n    },\n    {\n      \"column\": 12,\n      \"properties\": {\n        \"dtype\": \"number\",\n        \"std\": 7.141061511348571,\n        \"min\": 1.73,\n        \"max\": 37.97,\n        \"num_unique_values\": 455,\n        \"samples\": [\n          11.22,\n          21.14\n        ],\n        \"semantic_type\": \"\",\n        \"description\": \"\"\n      }\n    },\n    {\n      \"column\": \"Target\",\n      \"properties\": {\n        \"dtype\": \"number\",\n        \"std\": 9.197104087379818,\n        \"min\": 5.0,\n        \"max\": 50.0,\n        \"num_unique_values\": 229,\n        \"samples\": [\n          28.0,\n          20.1\n        ],\n        \"semantic_type\": \"\",\n        \"description\": \"\"\n      }\n    }\n  ]\n}"
            }
          },
          "metadata": {},
          "execution_count": 190
        }
      ],
      "source": [
        "# Import dataset\n",
        "(X_train, Y_train), (X_test, Y_test) = boston_housing.load_data(path='boston_housing.npz', test_split=0.2, seed=42)\n",
        "# Reshape target variable\n",
        "Y_train, Y_test = Y_train.reshape(Y_train.shape[0], 1), Y_test.reshape(Y_test.shape[0], 1)\n",
        "\n",
        "# Create Dataframe\n",
        "dataset = pd.DataFrame(np.concatenate((X_train, X_test), axis=0))\n",
        "dataset['Target'] = np.concatenate((Y_train, Y_test), axis = 0)\n",
        "dataset"
      ]
    },
    {
      "cell_type": "markdown",
      "metadata": {
        "id": "ZS832UhhgaDz"
      },
      "source": [
        "### **Model Training**"
      ]
    },
    {
      "cell_type": "code",
      "execution_count": null,
      "metadata": {
        "colab": {
          "base_uri": "https://localhost:8080/"
        },
        "id": "T-OpNW2cfBgH",
        "outputId": "9f77619c-9783-489b-ef8e-761df951f9c4"
      },
      "outputs": [
        {
          "output_type": "stream",
          "name": "stdout",
          "text": [
            "Epoch: 1 Error: 226.65\n",
            "Epoch: 2 Error: 192.81\n",
            "Epoch: 3 Error: 167.51\n",
            "Epoch: 4 Error: 148.38\n",
            "Epoch: 5 Error: 133.75\n",
            "Epoch: 6 Error: 122.44\n",
            "Epoch: 7 Error: 113.6\n",
            "Epoch: 8 Error: 106.62\n",
            "Epoch: 9 Error: 101.07\n",
            "Epoch: 10 Error: 96.61\n",
            "Epoch: 11 Error: 92.99\n",
            "Epoch: 12 Error: 90.05\n",
            "Epoch: 13 Error: 87.63\n",
            "Epoch: 14 Error: 85.63\n",
            "Epoch: 15 Error: 83.97\n",
            "Epoch: 16 Error: 82.58\n",
            "Epoch: 17 Error: 81.41\n",
            "Epoch: 18 Error: 80.42\n",
            "Epoch: 19 Error: 79.57\n",
            "Epoch: 20 Error: 78.84\n",
            "Epoch: 21 Error: 78.22\n",
            "Epoch: 22 Error: 77.67\n",
            "Epoch: 23 Error: 77.19\n",
            "Epoch: 24 Error: 76.77\n",
            "Epoch: 25 Error: 76.39\n",
            "Epoch: 26 Error: 76.06\n",
            "Epoch: 27 Error: 75.75\n",
            "Epoch: 28 Error: 75.48\n",
            "Epoch: 29 Error: 75.22\n",
            "Epoch: 30 Error: 74.98\n",
            "Epoch: 31 Error: 74.77\n",
            "Epoch: 32 Error: 74.56\n",
            "Epoch: 33 Error: 74.37\n",
            "Epoch: 34 Error: 74.18\n",
            "Epoch: 35 Error: 74.01\n",
            "Epoch: 36 Error: 73.84\n",
            "Epoch: 37 Error: 73.68\n",
            "Epoch: 38 Error: 73.53\n",
            "Epoch: 39 Error: 73.38\n",
            "Epoch: 40 Error: 73.23\n",
            "Epoch: 41 Error: 73.09\n",
            "Epoch: 42 Error: 72.96\n",
            "Epoch: 43 Error: 72.83\n",
            "Epoch: 44 Error: 72.7\n",
            "Epoch: 45 Error: 72.57\n",
            "Epoch: 46 Error: 72.45\n",
            "Epoch: 47 Error: 72.33\n",
            "Epoch: 48 Error: 72.21\n",
            "Epoch: 49 Error: 72.09\n",
            "Epoch: 50 Error: 71.98\n",
            "Epoch: 51 Error: 71.87\n",
            "Epoch: 52 Error: 71.76\n",
            "Epoch: 53 Error: 71.65\n",
            "Epoch: 54 Error: 71.54\n",
            "Epoch: 55 Error: 71.44\n",
            "Epoch: 56 Error: 71.34\n",
            "Epoch: 57 Error: 71.24\n",
            "Epoch: 58 Error: 71.14\n",
            "Epoch: 59 Error: 71.04\n",
            "Epoch: 60 Error: 70.95\n",
            "Epoch: 61 Error: 70.85\n",
            "Epoch: 62 Error: 70.76\n",
            "Epoch: 63 Error: 70.67\n",
            "Epoch: 64 Error: 70.58\n",
            "Epoch: 65 Error: 70.49\n",
            "Epoch: 66 Error: 70.41\n",
            "Epoch: 67 Error: 70.32\n",
            "Epoch: 68 Error: 70.24\n",
            "Epoch: 69 Error: 70.16\n",
            "Epoch: 70 Error: 70.08\n",
            "Epoch: 71 Error: 70.0\n",
            "Epoch: 72 Error: 69.92\n",
            "Epoch: 73 Error: 69.84\n",
            "Epoch: 74 Error: 69.77\n",
            "Epoch: 75 Error: 69.69\n",
            "Epoch: 76 Error: 69.62\n",
            "Epoch: 77 Error: 69.55\n",
            "Epoch: 78 Error: 69.48\n",
            "Epoch: 79 Error: 69.41\n",
            "Epoch: 80 Error: 69.34\n",
            "Epoch: 81 Error: 69.27\n",
            "Epoch: 82 Error: 69.2\n",
            "Epoch: 83 Error: 69.14\n",
            "Epoch: 84 Error: 69.07\n",
            "Epoch: 85 Error: 69.01\n",
            "Epoch: 86 Error: 68.95\n",
            "Epoch: 87 Error: 68.89\n",
            "Epoch: 88 Error: 68.83\n",
            "Epoch: 89 Error: 68.77\n",
            "Epoch: 90 Error: 68.71\n",
            "Epoch: 91 Error: 68.65\n",
            "Epoch: 92 Error: 68.59\n",
            "Epoch: 93 Error: 68.54\n",
            "Epoch: 94 Error: 68.48\n",
            "Epoch: 95 Error: 68.43\n",
            "Epoch: 96 Error: 68.37\n",
            "Epoch: 97 Error: 68.32\n",
            "Epoch: 98 Error: 68.27\n",
            "Epoch: 99 Error: 68.22\n",
            "Epoch: 100 Error: 68.17\n"
          ]
        }
      ],
      "source": [
        "# Create model\n",
        "model = Model()\n",
        "model.layers = [NeuronLayer(13, 64, \"RELU\"), NeuronLayer(64, 1, \"RELU\")]\n",
        "# Compile model\n",
        "model.compile(loss=\"MSE\",\n",
        "              optimizer=\"GD\",\n",
        "              learningRate=0.01)\n",
        "\n",
        "# Train model\n",
        "training_Error = model.fit(X_train, Y_train, epochs=100, batchSize=None)"
      ]
    },
    {
      "cell_type": "markdown",
      "metadata": {
        "id": "1h6lUSPS4Odq"
      },
      "source": [
        "### **Model Evaluation**"
      ]
    },
    {
      "cell_type": "code",
      "execution_count": null,
      "metadata": {
        "colab": {
          "base_uri": "https://localhost:8080/",
          "height": 489
        },
        "id": "JmEOq_dp4upW",
        "outputId": "53c2bdfa-a028-47a1-f590-8c12acea3037"
      },
      "outputs": [
        {
          "output_type": "display_data",
          "data": {
            "text/plain": [
              "<Figure size 640x480 with 1 Axes>"
            ],
            "image/png": "[encoded data removed]"
          },
          "metadata": {}
        },
        {
          "output_type": "stream",
          "name": "stdout",
          "text": [
            "Testing Error: 63.84\n"
          ]
        }
      ],
      "source": [
        "# Plot loss curve\n",
        "plt.plot(training_Error)\n",
        "plt.title(\"Loss Curve\")\n",
        "plt.xlabel(\"Epoch\")\n",
        "plt.ylabel(\"Loss\")\n",
        "plt.show()\n",
        "\n",
        "#Print test error\n",
        "print(f\"Testing Error: {round(model.evaluate(X_test, Y_test), 2)}\")"
      ]
    },
    {
      "cell_type": "markdown",
      "metadata": {
        "id": "ndh3neCqZy7G"
      },
      "source": [
        "## **Tensorflow for Neural Networks**"
      ]
    },
    {
      "cell_type": "markdown",
      "source": [
        "TensorFlow is an open-source machine learning framework developed by Google. It provides tools and libraries to build and train neural networks and other machine learning models, especially for deep learning tasks."
      ],
      "metadata": {
        "id": "NZ9ZZzaTVXGo"
      }
    },
    {
      "cell_type": "markdown",
      "metadata": {
        "id": "z37sqSU6hBrT"
      },
      "source": [
        "### **Load Dataset**"
      ]
    },
    {
      "cell_type": "code",
      "execution_count": null,
      "metadata": {
        "id": "Im0jzbMRZ-hN"
      },
      "outputs": [],
      "source": [
        "(X_train, Y_train), (X_test, Y_test) = mnist.load_data()"
      ]
    },
    {
      "cell_type": "code",
      "source": [
        "fig, axes = plt.subplots(1, 5, figsize=(12, 12))\n",
        "\n",
        "# Insert images\n",
        "for i in range(5):\n",
        "    axes[i].imshow(X_train[i])\n",
        "\n",
        "plt.show()"
      ],
      "metadata": {
        "colab": {
          "base_uri": "https://localhost:8080/",
          "height": 223
        },
        "id": "KBDvP4i18ZNc",
        "outputId": "ddd9fac8-9540-4673-a2ce-79f77bd06fc6"
      },
      "execution_count": null,
      "outputs": [
        {
          "output_type": "display_data",
          "data": {
            "text/plain": [
              "<Figure size 1200x1200 with 5 Axes>"
            ],
            "image/png": "[encoded data removed]"
          },
          "metadata": {}
        }
      ]
    },
    {
      "cell_type": "markdown",
      "source": [
        "### **Preprocess Data**"
      ],
      "metadata": {
        "id": "_OXZT1GL69r7"
      }
    },
    {
      "cell_type": "code",
      "source": [
        "X_train, X_test, Y_train, Y_test = X_train.astype(\"float32\") / 255, X_test.astype(\"float32\") / 255, Y_train.astype(\"float32\"), Y_test.astype(\"float32\")"
      ],
      "metadata": {
        "id": "h4YdzNr7695b"
      },
      "execution_count": null,
      "outputs": []
    },
    {
      "cell_type": "markdown",
      "metadata": {
        "id": "iJW1s7z5hFsq"
      },
      "source": [
        "### **Model Training**"
      ]
    },
    {
      "cell_type": "code",
      "execution_count": null,
      "metadata": {
        "colab": {
          "base_uri": "https://localhost:8080/"
        },
        "id": "kxqNnc0JhIrC",
        "outputId": "33fa6c6e-977c-4147-f809-5e90989d4624"
      },
      "outputs": [
        {
          "output_type": "stream",
          "name": "stderr",
          "text": [
            "/usr/local/lib/python3.10/dist-packages/keras/src/layers/reshaping/flatten.py:37: UserWarning: Do not pass an `input_shape`/`input_dim` argument to a layer. When using Sequential models, prefer using an `Input(shape)` object as the first layer in the model instead.\n",
            "  super().__init__(**kwargs)\n"
          ]
        },
        {
          "output_type": "stream",
          "name": "stdout",
          "text": [
            "Epoch 1/10\n"
          ]
        },
        {
          "output_type": "stream",
          "name": "stderr",
          "text": [
            "/usr/local/lib/python3.10/dist-packages/keras/src/backend/tensorflow/nn.py:609: UserWarning: \"`sparse_categorical_crossentropy` received `from_logits=True`, but the `output` argument was produced by a Softmax activation and thus does not represent logits. Was this intended?\n",
            "  output, from_logits = _get_logits(\n"
          ]
        },
        {
          "output_type": "stream",
          "name": "stdout",
          "text": [
            "\u001b[1m469/469\u001b[0m \u001b[32m━━━━━━━━━━━━━━━━━━━━\u001b[0m\u001b[37m\u001b[0m \u001b[1m3s\u001b[0m 4ms/step - accuracy: 0.8361 - loss: 0.6121\n",
            "Epoch 2/10\n",
            "\u001b[1m469/469\u001b[0m \u001b[32m━━━━━━━━━━━━━━━━━━━━\u001b[0m\u001b[37m\u001b[0m \u001b[1m3s\u001b[0m 4ms/step - accuracy: 0.9485 - loss: 0.1795\n",
            "Epoch 3/10\n",
            "\u001b[1m469/469\u001b[0m \u001b[32m━━━━━━━━━━━━━━━━━━━━\u001b[0m\u001b[37m\u001b[0m \u001b[1m2s\u001b[0m 4ms/step - accuracy: 0.9639 - loss: 0.1259\n",
            "Epoch 4/10\n",
            "\u001b[1m469/469\u001b[0m \u001b[32m━━━━━━━━━━━━━━━━━━━━\u001b[0m\u001b[37m\u001b[0m \u001b[1m3s\u001b[0m 5ms/step - accuracy: 0.9722 - loss: 0.0965\n",
            "Epoch 5/10\n",
            "\u001b[1m469/469\u001b[0m \u001b[32m━━━━━━━━━━━━━━━━━━━━\u001b[0m\u001b[37m\u001b[0m \u001b[1m4s\u001b[0m 8ms/step - accuracy: 0.9777 - loss: 0.0778\n",
            "Epoch 6/10\n",
            "\u001b[1m469/469\u001b[0m \u001b[32m━━━━━━━━━━━━━━━━━━━━\u001b[0m\u001b[37m\u001b[0m \u001b[1m2s\u001b[0m 5ms/step - accuracy: 0.9828 - loss: 0.0622\n",
            "Epoch 7/10\n",
            "\u001b[1m469/469\u001b[0m \u001b[32m━━━━━━━━━━━━━━━━━━━━\u001b[0m\u001b[37m\u001b[0m \u001b[1m2s\u001b[0m 4ms/step - accuracy: 0.9838 - loss: 0.0552\n",
            "Epoch 8/10\n",
            "\u001b[1m469/469\u001b[0m \u001b[32m━━━━━━━━━━━━━━━━━━━━\u001b[0m\u001b[37m\u001b[0m \u001b[1m3s\u001b[0m 4ms/step - accuracy: 0.9868 - loss: 0.0444\n",
            "Epoch 9/10\n",
            "\u001b[1m469/469\u001b[0m \u001b[32m━━━━━━━━━━━━━━━━━━━━\u001b[0m\u001b[37m\u001b[0m \u001b[1m3s\u001b[0m 4ms/step - accuracy: 0.9892 - loss: 0.0386\n",
            "Epoch 10/10\n",
            "\u001b[1m469/469\u001b[0m \u001b[32m━━━━━━━━━━━━━━━━━━━━\u001b[0m\u001b[37m\u001b[0m \u001b[1m3s\u001b[0m 7ms/step - accuracy: 0.9920 - loss: 0.0306\n"
          ]
        }
      ],
      "source": [
        "# Create model\n",
        "#dense -> 128 indicates --> we send 128 data in a batch through forward propagation and use backward to recheck\n",
        "#similar way continue this process untill our dataset is empty\n",
        "model = Sequential([\n",
        "  Flatten(input_shape=(28, 28)),\n",
        "  Dense(128, activation='relu'),\n",
        "  Dense(10, activation=\"softmax\")\n",
        "])\n",
        "\n",
        "#dense, Adam, epochs er val model er upor base kore change hobe\n",
        "\n",
        "# Compile model\n",
        "model.compile(optimizer=Adam(0.001),\n",
        "              loss=SparseCategoricalCrossentropy(from_logits=True),#used Categorical Cross Entropy\n",
        "              metrics=['accuracy'])\n",
        "\n",
        "# Train model\n",
        "history = model.fit(X_train, Y_train, epochs = 10, batch_size=128)"
      ]
    },
    {
      "cell_type": "markdown",
      "source": [
        "### **Model Evaluation**"
      ],
      "metadata": {
        "id": "DwVes0Ix68Mc"
      }
    },
    {
      "cell_type": "code",
      "source": [
        "# Plot loss curve\n",
        "plt.plot(history.history['loss'])\n",
        "plt.title(\"Loss Curve\")\n",
        "plt.xlabel(\"Epoch\")\n",
        "plt.ylabel(\"Loss\")\n",
        "plt.show()\n",
        "\n",
        "#Print test error\n",
        "print(f\"Testing Accuracy: {round(model.evaluate(X_test, Y_test)[1] * 100, 2)}%\")"
      ],
      "metadata": {
        "colab": {
          "base_uri": "https://localhost:8080/",
          "height": 507
        },
        "id": "zqsNfPRp68qi",
        "outputId": "35bcf934-ce6e-4a1e-d07b-598231dfcc58"
      },
      "execution_count": null,
      "outputs": [
        {
          "output_type": "display_data",
          "data": {
            "text/plain": [
              "<Figure size 640x480 with 1 Axes>"
            ],
            "image/png": "[encoded data removed]"
          },
          "metadata": {}
        },
        {
          "output_type": "stream",
          "name": "stdout",
          "text": [
            "\u001b[1m313/313\u001b[0m \u001b[32m━━━━━━━━━━━━━━━━━━━━\u001b[0m\u001b[37m\u001b[0m \u001b[1m1s\u001b[0m 2ms/step - accuracy: 0.9745 - loss: 0.0833\n",
            "Testing Accuracy: 97.75%\n"
          ]
        }
      ]
    }
  ],
  "metadata": {
    "colab": {
      "provenance": [],
      "include_colab_link": true
    },
    "kernelspec": {
      "display_name": "Python 3",
      "name": "python3"
    },
    "language_info": {
      "name": "python"
    }
  },
  "nbformat": 4,
  "nbformat_minor": 0
}